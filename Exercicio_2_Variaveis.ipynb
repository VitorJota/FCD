{
  "cells": [
    {
      "cell_type": "markdown",
      "id": "4bdcddf6-459f-4119-8c6f-4bc100569808",
      "metadata": {
        "id": "4bdcddf6-459f-4119-8c6f-4bc100569808"
      },
      "source": [
        "## Exercício 1"
      ]
    },
    {
      "cell_type": "code",
      "execution_count": 2,
      "id": "6e438be3-7040-4e04-a6e9-f7c7eaaccd65",
      "metadata": {
        "tags": [],
        "id": "6e438be3-7040-4e04-a6e9-f7c7eaaccd65"
      },
      "outputs": [],
      "source": [
        "# Crie uma variável chamada nome e atribua o seu nome a ela.\n",
        "\n",
        "nome = \"João Vitor\""
      ]
    },
    {
      "cell_type": "code",
      "execution_count": 3,
      "id": "7538ce5d-1c9d-4e77-bf44-5c1e1072f108",
      "metadata": {
        "tags": [],
        "id": "7538ce5d-1c9d-4e77-bf44-5c1e1072f108"
      },
      "outputs": [],
      "source": [
        "# Crie uma variável chamada idade e atribua sua idade a ela.\n",
        "\n",
        "idade = 22"
      ]
    },
    {
      "cell_type": "code",
      "execution_count": 4,
      "id": "9458653d-d60f-410c-b22e-e41550607cbb",
      "metadata": {
        "tags": [],
        "id": "9458653d-d60f-410c-b22e-e41550607cbb"
      },
      "outputs": [],
      "source": [
        "# Crie uma variável chamada altura e atribua sua altura (em metros) a ela.\n",
        "\n",
        "altura = 1.88"
      ]
    },
    {
      "cell_type": "code",
      "execution_count": 5,
      "id": "614a4430-a492-4c9b-9e38-386625c6e68a",
      "metadata": {
        "tags": [],
        "colab": {
          "base_uri": "https://localhost:8080/"
        },
        "id": "614a4430-a492-4c9b-9e38-386625c6e68a",
        "outputId": "5f795247-f3e2-42c0-f2d2-2cf7c1ce92f6"
      },
      "outputs": [
        {
          "output_type": "stream",
          "name": "stdout",
          "text": [
            "Meu nome é João Vitor, tenho 22 anos e minha altura é 1.88 metros.\n"
          ]
        }
      ],
      "source": [
        "# Mostre na tela a concatenação das informações: \"Meu nome é [nome], tenho [idade] anos e minha altura é [altura] metros.\"\n",
        "\n",
        "print(\"Meu nome é {a}, tenho {b} anos e minha altura é {c} metros.\".format(a = nome, b = idade, c = altura))"
      ]
    },
    {
      "cell_type": "markdown",
      "id": "e7be5ba1-8537-4bd4-a4a1-19268bc70cde",
      "metadata": {
        "id": "e7be5ba1-8537-4bd4-a4a1-19268bc70cde"
      },
      "source": [
        "## Exercício 2"
      ]
    },
    {
      "cell_type": "code",
      "execution_count": 6,
      "id": "c3570c6e-ad8f-4b6c-b259-12d2115bf370",
      "metadata": {
        "tags": [],
        "id": "c3570c6e-ad8f-4b6c-b259-12d2115bf370"
      },
      "outputs": [],
      "source": [
        "# Crie uma variável chamada frase e atribua a seguinte frase a ela:\n",
        "# \"Python é uma linguagem de programação muito poderosa.\"\n",
        "\n",
        "frase = \"Python é uma linguagem de programação muito poderosa.\""
      ]
    },
    {
      "cell_type": "code",
      "execution_count": 7,
      "id": "7b75e55c-11cc-438d-8956-7da8c978719f",
      "metadata": {
        "tags": [],
        "colab": {
          "base_uri": "https://localhost:8080/",
          "height": 35
        },
        "id": "7b75e55c-11cc-438d-8956-7da8c978719f",
        "outputId": "e393c6bc-7fb9-40f9-c5fa-98c6d8e1d68a"
      },
      "outputs": [
        {
          "output_type": "execute_result",
          "data": {
            "text/plain": [
              "'PYTHON É UMA LINGUAGEM DE PROGRAMAÇÃO MUITO PODEROSA.'"
            ],
            "application/vnd.google.colaboratory.intrinsic+json": {
              "type": "string"
            }
          },
          "metadata": {},
          "execution_count": 7
        }
      ],
      "source": [
        "# Utilize o método .upper() para transformar toda a frase em maiúsculas e imprima o resultado.\n",
        "\n",
        "frase.upper()"
      ]
    },
    {
      "cell_type": "code",
      "execution_count": 8,
      "id": "9b05362c-5136-4878-a463-1143cbaa5e71",
      "metadata": {
        "tags": [],
        "colab": {
          "base_uri": "https://localhost:8080/",
          "height": 35
        },
        "id": "9b05362c-5136-4878-a463-1143cbaa5e71",
        "outputId": "d8977f6e-0520-4939-d631-dd848aa39b33"
      },
      "outputs": [
        {
          "output_type": "execute_result",
          "data": {
            "text/plain": [
              "'python é uma linguagem de programação muito poderosa.'"
            ],
            "application/vnd.google.colaboratory.intrinsic+json": {
              "type": "string"
            }
          },
          "metadata": {},
          "execution_count": 8
        }
      ],
      "source": [
        "# Utilize o método .lower() para transformar toda a frase em minúsculas e imprima o resultado.\n",
        "\n",
        "frase.lower()"
      ]
    },
    {
      "cell_type": "code",
      "execution_count": 9,
      "id": "8cd19990-5501-4e6e-be86-eed170de2486",
      "metadata": {
        "tags": [],
        "colab": {
          "base_uri": "https://localhost:8080/",
          "height": 35
        },
        "id": "8cd19990-5501-4e6e-be86-eed170de2486",
        "outputId": "0fbd1c90-c12a-4276-ae40-ef10896c5684"
      },
      "outputs": [
        {
          "output_type": "execute_result",
          "data": {
            "text/plain": [
              "'Python é uma linguagem de programação extremamente poderosa.'"
            ],
            "application/vnd.google.colaboratory.intrinsic+json": {
              "type": "string"
            }
          },
          "metadata": {},
          "execution_count": 9
        }
      ],
      "source": [
        "# Utilize o método .replace() para substituir a palavra \"muito\" por \"extremamente\". Imprima o resultado.\n",
        "\n",
        "frase.replace(\"muito\", \"extremamente\")"
      ]
    },
    {
      "cell_type": "code",
      "execution_count": 10,
      "id": "d55febc6-7654-4940-bdf8-462ad5f1333d",
      "metadata": {
        "tags": [],
        "colab": {
          "base_uri": "https://localhost:8080/"
        },
        "id": "d55febc6-7654-4940-bdf8-462ad5f1333d",
        "outputId": "634b77a5-e8e3-46bc-9197-39a2dbe55d6d"
      },
      "outputs": [
        {
          "output_type": "execute_result",
          "data": {
            "text/plain": [
              "['Python', 'é', 'uma', 'linguagem', 'de', 'programação', 'muito', 'poderosa.']"
            ]
          },
          "metadata": {},
          "execution_count": 10
        }
      ],
      "source": [
        "# Utilize o método .split() para dividir a frase em palavras e imprima o resultado como uma lista\n",
        "\n",
        "frase.split()"
      ]
    },
    {
      "cell_type": "markdown",
      "id": "4352f5d9-0ad8-4c6f-8e3e-406fd7e8485b",
      "metadata": {
        "id": "4352f5d9-0ad8-4c6f-8e3e-406fd7e8485b"
      },
      "source": [
        "## Exercício 3"
      ]
    },
    {
      "cell_type": "code",
      "execution_count": 11,
      "id": "4c5e3a86-ba82-4843-921b-bdfdbf6a1964",
      "metadata": {
        "tags": [],
        "id": "4c5e3a86-ba82-4843-921b-bdfdbf6a1964"
      },
      "outputs": [],
      "source": [
        "# Crie uma lista chamada frutas contendo os seguintes itens: \"maçã\", \"banana\", \"laranja\", \"uva\", \"abacaxi\"\n",
        "\n",
        "frutas = [\"maçã\", \"banana\", \"laranja\", \"uva\", \"abacaxi\"]"
      ]
    },
    {
      "cell_type": "code",
      "execution_count": 12,
      "id": "e6941089-ff41-4e57-a89d-734c3837aade",
      "metadata": {
        "tags": [],
        "colab": {
          "base_uri": "https://localhost:8080/"
        },
        "id": "e6941089-ff41-4e57-a89d-734c3837aade",
        "outputId": "340627ad-ab48-4c18-d9e8-57b57b230591"
      },
      "outputs": [
        {
          "output_type": "execute_result",
          "data": {
            "text/plain": [
              "['maçã', 'banana', 'laranja', 'uva', 'abacaxi']"
            ]
          },
          "metadata": {},
          "execution_count": 12
        }
      ],
      "source": [
        "# Imprima a lista frutas\n",
        "\n",
        "frutas"
      ]
    },
    {
      "cell_type": "code",
      "execution_count": 17,
      "id": "db59b363-69d6-41e6-9b88-0d553358068b",
      "metadata": {
        "tags": [],
        "colab": {
          "base_uri": "https://localhost:8080/"
        },
        "id": "db59b363-69d6-41e6-9b88-0d553358068b",
        "outputId": "d7bb084e-524e-44a5-b345-717c37fe6923"
      },
      "outputs": [
        {
          "output_type": "execute_result",
          "data": {
            "text/plain": [
              "['maçã', 'banana', 'uva', 'abacaxi', 'manga', 'manga', 'manga']"
            ]
          },
          "metadata": {},
          "execution_count": 17
        }
      ],
      "source": [
        "# Adicione o item \"manga\" à lista frutas utilizando o método .append() e imprima a lista novamente\n",
        "\n",
        "frutas.append(\"manga\")\n",
        "frutas"
      ]
    },
    {
      "cell_type": "code",
      "execution_count": 19,
      "id": "3123be72-9bed-4606-b543-e34b69c79450",
      "metadata": {
        "tags": [],
        "colab": {
          "base_uri": "https://localhost:8080/"
        },
        "id": "3123be72-9bed-4606-b543-e34b69c79450",
        "outputId": "7bdf4d64-f276-4472-a840-8bbb054757d7"
      },
      "outputs": [
        {
          "output_type": "execute_result",
          "data": {
            "text/plain": [
              "['maçã', 'banana', 'uva', 'abacaxi', 'manga', 'manga', 'manga']"
            ]
          },
          "metadata": {},
          "execution_count": 19
        }
      ],
      "source": [
        "# Remova o item \"laranja\" da lista frutas utilizando o método .remove() e imprima a lista.\n",
        "\n",
        "frutas.remove(\"laranja\")\n",
        "frutas"
      ]
    },
    {
      "cell_type": "code",
      "execution_count": 20,
      "id": "eb7f24f4-15d0-4cea-b421-371de39ee392",
      "metadata": {
        "tags": [],
        "colab": {
          "base_uri": "https://localhost:8080/",
          "height": 35
        },
        "id": "eb7f24f4-15d0-4cea-b421-371de39ee392",
        "outputId": "daad1ed9-311f-4549-c97a-3479f08799c8"
      },
      "outputs": [
        {
          "output_type": "execute_result",
          "data": {
            "text/plain": [
              "'uva'"
            ],
            "application/vnd.google.colaboratory.intrinsic+json": {
              "type": "string"
            }
          },
          "metadata": {},
          "execution_count": 20
        }
      ],
      "source": [
        "# Acesse o terceiro item da lista frutas (lembrando que as listas começam em 0) e imprima-o.\n",
        "\n",
        "frutas[2]"
      ]
    },
    {
      "cell_type": "code",
      "execution_count": 21,
      "id": "ec6d92fc-bc3d-4163-bbd4-5a5a1a572ef6",
      "metadata": {
        "tags": [],
        "colab": {
          "base_uri": "https://localhost:8080/"
        },
        "id": "ec6d92fc-bc3d-4163-bbd4-5a5a1a572ef6",
        "outputId": "9114c24a-f808-4f06-90fa-1a9e4212540b"
      },
      "outputs": [
        {
          "output_type": "execute_result",
          "data": {
            "text/plain": [
              "['abacaxi', 'banana', 'manga', 'manga', 'manga', 'maçã', 'uva']"
            ]
          },
          "metadata": {},
          "execution_count": 21
        }
      ],
      "source": [
        "# Ordene a lista frutas em ordem alfabética utilizando o método .sort() e imprima a lista.\n",
        "\n",
        "frutas.sort()\n",
        "frutas"
      ]
    },
    {
      "cell_type": "code",
      "execution_count": 22,
      "id": "709c8bd3-d21b-4f20-9d2e-89f891821b7f",
      "metadata": {
        "tags": [],
        "colab": {
          "base_uri": "https://localhost:8080/"
        },
        "id": "709c8bd3-d21b-4f20-9d2e-89f891821b7f",
        "outputId": "0b834cbb-9c4b-4bd6-8384-3e48965b38d9"
      },
      "outputs": [
        {
          "output_type": "execute_result",
          "data": {
            "text/plain": [
              "32"
            ]
          },
          "metadata": {},
          "execution_count": 22
        }
      ],
      "source": [
        "# Crie uma lista chamada numeros com os valores [10, 5, 8, 3, 6]. Utilize a função sum() para calcular a soma de todos os elementos dessa lista e imprima o resultado.\n",
        "\n",
        "numeros = [10, 5, 8, 3, 6]\n",
        "sum(numeros)"
      ]
    },
    {
      "cell_type": "markdown",
      "id": "e12fe31a-7e94-4d25-b2d0-4ab41a6dfc83",
      "metadata": {
        "id": "e12fe31a-7e94-4d25-b2d0-4ab41a6dfc83"
      },
      "source": [
        "## Exercício 6"
      ]
    },
    {
      "cell_type": "code",
      "execution_count": 23,
      "id": "0e569e5a-9d61-456c-815d-1aab3ba5b06d",
      "metadata": {
        "tags": [],
        "colab": {
          "base_uri": "https://localhost:8080/"
        },
        "id": "0e569e5a-9d61-456c-815d-1aab3ba5b06d",
        "outputId": "2df6615b-65d6-497d-8ad9-87c0e8a56475"
      },
      "outputs": [
        {
          "output_type": "stream",
          "name": "stdout",
          "text": [
            "Digite seu peso (em kg): 70\n",
            "Digite sua altura (em metros): 1.88\n",
            "Seu IMC é: 19.81\n"
          ]
        }
      ],
      "source": [
        "# Crie um programa que receba a altura e o peso de uma pessoa e imprima seu IMC.\n",
        "\n",
        "a = float(input(\"Digite seu peso (em kg): \"))\n",
        "b = float(input(\"Digite sua altura (em metros): \"))\n",
        "\n",
        "imc = a / (b ** 2)\n",
        "\n",
        "print(f\"Seu IMC é: {imc:.2f}\")"
      ]
    },
    {
      "cell_type": "markdown",
      "id": "6505a5f5-f2aa-41b3-a9dd-f7a2ddb8fcb3",
      "metadata": {
        "id": "6505a5f5-f2aa-41b3-a9dd-f7a2ddb8fcb3"
      },
      "source": [
        "## Exercício 7"
      ]
    },
    {
      "cell_type": "code",
      "execution_count": 24,
      "id": "4517a34b-d62a-4669-8cc5-2d26da9fa5c0",
      "metadata": {
        "tags": [],
        "colab": {
          "base_uri": "https://localhost:8080/"
        },
        "id": "4517a34b-d62a-4669-8cc5-2d26da9fa5c0",
        "outputId": "1fdf199e-b6d0-4c3f-9010-90045a672e35"
      },
      "outputs": [
        {
          "output_type": "stream",
          "name": "stdout",
          "text": [
            "Qual o seu nome completo? \n",
            "João Vitor Simões de Carvalho\n",
            "Olá, João\n"
          ]
        }
      ],
      "source": [
        "# Escreva um programa que pergunte o nome completo do usuário e o cumprimente pelo primeiro nome.\n",
        "\n",
        "print(\"Qual o seu nome completo? \")\n",
        "nome_completo = input()\n",
        "\n",
        "primeiro_nome = nome_completo.split()[0]\n",
        "print(\"Olá,\", primeiro_nome)"
      ]
    },
    {
      "cell_type": "markdown",
      "id": "9dce2f8b-cd09-413a-978e-0032670440d0",
      "metadata": {
        "id": "9dce2f8b-cd09-413a-978e-0032670440d0"
      },
      "source": [
        "## Exercício 8"
      ]
    },
    {
      "cell_type": "code",
      "execution_count": 25,
      "id": "e5c2ce64-123f-4887-84a3-e79e6d7a1d67",
      "metadata": {
        "tags": [],
        "colab": {
          "base_uri": "https://localhost:8080/"
        },
        "id": "e5c2ce64-123f-4887-84a3-e79e6d7a1d67",
        "outputId": "4909a7ac-c3bf-443b-8662-b4aa34df273b"
      },
      "outputs": [
        {
          "output_type": "stream",
          "name": "stdout",
          "text": [
            "Qual o seu email? \n",
            "joaovitor@gmail.com\n",
            "O domínio é: gmail.com\n"
          ]
        }
      ],
      "source": [
        "# Escreva um código que extraia o domínio de um e-mail informado.\n",
        "\n",
        "def extrair_dominio(email):\n",
        "    return email.split('@')[1]\n",
        "\n",
        "print(\"Qual o seu email? \")\n",
        "email = input()\n",
        "\n",
        "dominio = extrair_dominio(email)\n",
        "print(\"O domínio é:\", dominio)"
      ]
    }
  ],
  "metadata": {
    "kernelspec": {
      "display_name": "Python 3 (ipykernel)",
      "language": "python",
      "name": "python3"
    },
    "language_info": {
      "codemirror_mode": {
        "name": "ipython",
        "version": 3
      },
      "file_extension": ".py",
      "mimetype": "text/x-python",
      "name": "python",
      "nbconvert_exporter": "python",
      "pygments_lexer": "ipython3",
      "version": "3.11.5"
    },
    "colab": {
      "provenance": []
    }
  },
  "nbformat": 4,
  "nbformat_minor": 5
}